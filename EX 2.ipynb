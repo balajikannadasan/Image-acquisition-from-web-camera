{
 "cells": [
  {
   "cell_type": "code",
   "execution_count": 1,
   "id": "3e477777",
   "metadata": {},
   "outputs": [],
   "source": [
    "import cv2\n",
    "videoCaptureObject=cv2.VideoCapture(0)\n",
    "while True:\n",
    "    ret,frame=videoCaptureObject.read()\n",
    "    cv2.imshow('vedio rolling',frame)\n",
    "    cv2.imwrite(\"myphoto.jpg\",frame)\n",
    "    if cv2.waitKey(1)==ord('q'):\n",
    "        break\n",
    "videoCaptureObject.release()\n",
    "cv2.destroyAllWindows()"
   ]
  },
  {
   "cell_type": "code",
   "execution_count": null,
   "id": "c4467f47",
   "metadata": {},
   "outputs": [],
   "source": [
    "import cv2\n",
    "Capture=cv2.VideoCapture(0)\n",
    "while(True):\n",
    "    R,Frame=Capture.read()\n",
    "    cv2.imshow(\"Frame\",Frame)\n",
    "    cv2.imwrite('Photo.jpg',Frame)\n",
    "    if cv2.waitKey(1)==ord('q'):\n",
    "        break\n",
    "Capture.release()\n",
    "cv2.destroyAllWindows()\n"
   ]
  },
  {
   "cell_type": "code",
   "execution_count": null,
   "id": "c211b518",
   "metadata": {},
   "outputs": [],
   "source": [
    "import cv2\n",
    "import numpy as np\n",
    "\n",
    "cap = cv2.VideoCapture(0)\n",
    "\n",
    "while True:\n",
    "    ret, frame = cap.read()\n",
    "    width = int(cap.get(3))\n",
    "    height = int(cap.get(4))\n",
    "    \n",
    "    image = np.zeros(frame.shape, np.uint8)\n",
    "    smaller_frame = cv2.resize(frame, (0,0), fx = 0.5, fy = 0.5)\n",
    "    image[:height//2, :width//2] = smaller_frame\n",
    "    image[height//2:, :width//2] = smaller_frame\n",
    "    image[:height//2, width//2:] = smaller_frame\n",
    "    image[height//2:, width//2:] = smaller_frame\n",
    "    \n",
    "    cv2.imshow('frame',image)\n",
    "    if cv2.waitKey(1) == ord('m'):\n",
    "        break\n",
    "cap.release()\n",
    "cv2.destroyAllWindows()\n"
   ]
  },
  {
   "cell_type": "code",
   "execution_count": null,
   "id": "fcbe6f70",
   "metadata": {},
   "outputs": [],
   "source": [
    "import numpy as np\n",
    "import cv2\n",
    "\n",
    "Capture=cv2.VideoCapture(0)\n",
    "while(True):\n",
    "    R,Frame=Capture.read()\n",
    "    Width=int(Capture.get(3))\n",
    "    Height=int(Capture.get(4))\n",
    "    image=np.zeros(Frame.shape,np.uint8)\n",
    "    smaller_frame=cv2.resize(Frame, (0,0), fx=0.5, fy=0.5)\n",
    "    image[:Height//2,:Width//2]=cv2.rotate(smaller_frame,cv2.ROTATE_180)\n",
    "    image[Height//2:,:Width//2]=smaller_frame\n",
    "    image[:Height//2,Width//2:]=cv2.rotate(smaller_frame,cv2.ROTATE_180)\n",
    "    image[Height//2:,Width//2:]=smaller_frame\n",
    "    cv2.imshow(\"Frame\",image)\n",
    "    cv2.imwrite('bala.jpg',image)\n",
    "    if cv2.waitKey(1)==ord('m'):\n",
    "        break\n",
    "Capture.release()\n",
    "cv2.destroyAllWindows()\n"
   ]
  }
 ],
 "metadata": {
  "kernelspec": {
   "display_name": "Python 3 (ipykernel)",
   "language": "python",
   "name": "python3"
  },
  "language_info": {
   "codemirror_mode": {
    "name": "ipython",
    "version": 3
   },
   "file_extension": ".py",
   "mimetype": "text/x-python",
   "name": "python",
   "nbconvert_exporter": "python",
   "pygments_lexer": "ipython3",
   "version": "3.8.12"
  }
 },
 "nbformat": 4,
 "nbformat_minor": 5
}
